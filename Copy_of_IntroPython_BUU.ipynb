{
  "cells": [
    {
      "cell_type": "markdown",
      "metadata": {
        "id": "view-in-github",
        "colab_type": "text"
      },
      "source": [
        "<a href=\"https://colab.research.google.com/github/Songpon123/Comparison-Slider/blob/main/Copy_of_IntroPython_BUU.ipynb\" target=\"_parent\"><img src=\"https://colab.research.google.com/assets/colab-badge.svg\" alt=\"Open In Colab\"/></a>"
      ]
    },
    {
      "cell_type": "markdown",
      "metadata": {
        "id": "KHxJ_KS1ST3j"
      },
      "source": [
        "\n",
        "# การเขียน Python เบื้องต้น\n",
        "* Introduction\n",
        "* Data types\n",
        "    * Numbers\n",
        "    * Strings\n",
        "    * Printing\n",
        "* Data structure\n",
        "    * Lists\n",
        "    * Dictionaries\n",
        "    * Booleans\n",
        "    * Tuples\n",
        "    * Sets\n",
        "    * ex1\n",
        "    * ex2"
      ]
    },
    {
      "cell_type": "markdown",
      "source": [
        "## Introduction"
      ],
      "metadata": {
        "id": "NRCfsIx8Ymhq"
      }
    },
    {
      "cell_type": "code",
      "source": [
        "# ใช้ในการอธิบายคําส่่ง สั้นๆ ในรูปแบบบรรทัดเดียว(เขียนด้านบน หรือ ด้านหลัง)\n",
        "#วิธีที่ 2 เขียนคําอธิบายไว้ในเครื่องหมาย “”” (Triple Quote) ใช้ ในการอธิบายคําส่งัยาวๆหรือแบบหลายบรรทัด"
      ],
      "metadata": {
        "id": "8AaRZi-bFmO3"
      },
      "execution_count": null,
      "outputs": []
    },
    {
      "cell_type": "code",
      "source": [
        "#ใช้เป็น calculation\n"
      ],
      "metadata": {
        "id": "9G1YyziRYgQ1"
      },
      "execution_count": null,
      "outputs": []
    },
    {
      "cell_type": "code",
      "source": [
        "#ใช้เขียน fuction\n"
      ],
      "metadata": {
        "id": "OvbraOt5Y0bo"
      },
      "execution_count": null,
      "outputs": []
    },
    {
      "cell_type": "code",
      "source": [
        "#ใช้แสดงผล\n"
      ],
      "metadata": {
        "id": "_9KbnZOmY5cM"
      },
      "execution_count": null,
      "outputs": []
    },
    {
      "cell_type": "markdown",
      "metadata": {
        "id": "ZuZP0yTpST3l"
      },
      "source": [
        "## Data types\n",
        "ตัวแปร (Variables) และชนิดข้อมูลพื้นฐาน (int, float, str, bool)"
      ]
    },
    {
      "cell_type": "markdown",
      "metadata": {
        "id": "ygkMmZZzST3p"
      },
      "source": [
        "### การกำหนตัวแปร (Variable Assignment)\n",
        "สัญลักษณ์ที่ใช้แทนข้อมูลแต่ละประเภท ทำให้ทราบปริมาณหรือขนาดของข้อมูลที่จัดเก็บในหน่วยความจำ ผ่านชื่อ “ตัวแปร”"
      ]
    },
    {
      "cell_type": "code",
      "execution_count": null,
      "metadata": {
        "collapsed": true,
        "id": "bYnjS3PWST3q"
      },
      "outputs": [],
      "source": []
    },
    {
      "cell_type": "code",
      "execution_count": null,
      "metadata": {
        "collapsed": true,
        "id": "ZsQVuzDNST3q"
      },
      "outputs": [],
      "source": []
    },
    {
      "cell_type": "code",
      "execution_count": null,
      "metadata": {
        "id": "tXotbcXYST3q",
        "collapsed": true
      },
      "outputs": [],
      "source": []
    },
    {
      "cell_type": "code",
      "execution_count": null,
      "metadata": {
        "collapsed": true,
        "id": "UVJFhJGVST3p"
      },
      "outputs": [],
      "source": []
    },
    {
      "cell_type": "code",
      "source": [],
      "metadata": {
        "id": "cCqlRdz8dKaf"
      },
      "execution_count": null,
      "outputs": []
    },
    {
      "cell_type": "code",
      "source": [
        "#การกำหนดค่าหลายตัวแปรพร้อมกัน\n"
      ],
      "metadata": {
        "id": "KPvOK7jDjPQQ"
      },
      "execution_count": null,
      "outputs": []
    },
    {
      "cell_type": "code",
      "source": [
        "#การกำหนดค่าตัวแปรหลายตัวให้มีค่าเดียวกัน\n"
      ],
      "metadata": {
        "id": "oZY6jAyijV21"
      },
      "execution_count": null,
      "outputs": []
    },
    {
      "cell_type": "code",
      "source": [],
      "metadata": {
        "id": "CB9_cLtia-OT"
      },
      "execution_count": null,
      "outputs": []
    },
    {
      "cell_type": "code",
      "source": [],
      "metadata": {
        "id": "LjZJ9UezbJo3"
      },
      "execution_count": null,
      "outputs": []
    },
    {
      "cell_type": "code",
      "source": [],
      "metadata": {
        "id": "4gzbGJppDzb-"
      },
      "execution_count": null,
      "outputs": []
    },
    {
      "cell_type": "markdown",
      "source": [
        "### Numbers\n",
        "Python สามารถจัดการกับตัวเลขได้หลายประเภท แต่สองประเภทที่พบบ่อยที่สุดคือ:\n",
        "\n",
        "  1.\tจำนวนเต็ม (Integers – int)\n",
        "\n",
        "  •\tตัวเลขที่ไม่มีจุดทศนิยม\n",
        "\n",
        "  •\tเป็นได้ทั้งจำนวนเต็มบวก (+), จำนวนเต็มลบ (-) และศูนย์ (0)\n",
        "  2.\tจำนวนทศนิยม (Floating Point – float)\n",
        "\n",
        "  •\tตัวเลขที่มีจุดทศนิยม\n",
        "  3.\tจำนวนเชิงซ้อน (Complex – complex)\n",
        "\n",
        "  •\tใช้แทนตัวเลขที่มีส่วนจริง (real) และส่วนจินตภาพ (imaginary)\n",
        "  \n",
        "  •\tใน Python ใช้ j แทนหน่วยจินตภาพ (ไม่ใช่ i เหมือนคณิตศาสตร์)\n"
      ],
      "metadata": {
        "id": "JaZaJFatZihF"
      }
    },
    {
      "cell_type": "code",
      "execution_count": null,
      "metadata": {
        "id": "pMsbCF3MST3m"
      },
      "outputs": [],
      "source": []
    },
    {
      "cell_type": "code",
      "execution_count": null,
      "metadata": {
        "id": "MwAsgZpyST3n"
      },
      "outputs": [],
      "source": []
    },
    {
      "cell_type": "code",
      "execution_count": null,
      "metadata": {
        "id": "Xg30oePKST3n"
      },
      "outputs": [],
      "source": []
    },
    {
      "cell_type": "code",
      "execution_count": null,
      "metadata": {
        "id": "Yr-rEWCSST3n"
      },
      "outputs": [],
      "source": []
    },
    {
      "cell_type": "code",
      "execution_count": null,
      "metadata": {
        "id": "BBD5pm7pST3o"
      },
      "outputs": [],
      "source": []
    },
    {
      "cell_type": "code",
      "source": [],
      "metadata": {
        "id": "nvq1tcf6EGYx"
      },
      "execution_count": null,
      "outputs": []
    },
    {
      "cell_type": "code",
      "source": [],
      "metadata": {
        "id": "dfp_uAc9EI4L"
      },
      "execution_count": null,
      "outputs": []
    },
    {
      "cell_type": "code",
      "source": [],
      "metadata": {
        "id": "kQ3A5YVPEO28"
      },
      "execution_count": null,
      "outputs": []
    },
    {
      "cell_type": "code",
      "execution_count": null,
      "metadata": {
        "id": "FVrlIgRpST3p"
      },
      "outputs": [],
      "source": []
    },
    {
      "cell_type": "code",
      "execution_count": null,
      "metadata": {
        "id": "mmg6vFYfST3o"
      },
      "outputs": [],
      "source": []
    },
    {
      "cell_type": "code",
      "source": [],
      "metadata": {
        "id": "sfENG975bq4j"
      },
      "execution_count": null,
      "outputs": []
    },
    {
      "cell_type": "code",
      "source": [],
      "metadata": {
        "id": "E7_0Md19brs0"
      },
      "execution_count": null,
      "outputs": []
    },
    {
      "cell_type": "code",
      "source": [],
      "metadata": {
        "id": "DpRbsrP9nycb"
      },
      "execution_count": null,
      "outputs": []
    },
    {
      "cell_type": "code",
      "source": [],
      "metadata": {
        "id": "NXDxqoAPn1Dp"
      },
      "execution_count": null,
      "outputs": []
    },
    {
      "cell_type": "markdown",
      "metadata": {
        "id": "mk9cTzEbST3r"
      },
      "source": [
        "### Strings\n",
        "ลําดับของอักขระ เช่น\"ข้อมูลเชิงพื้นที่\", \"ระบบพิกัด\"\n"
      ]
    },
    {
      "cell_type": "code",
      "execution_count": null,
      "metadata": {
        "id": "vOmSPb8SST3r"
      },
      "outputs": [],
      "source": []
    },
    {
      "cell_type": "code",
      "source": [
        "# แสดงถึงระบบพิกัดที่ใช้กันทั่วไป\n"
      ],
      "metadata": {
        "id": "T2y1K5-sb976"
      },
      "execution_count": null,
      "outputs": []
    },
    {
      "cell_type": "markdown",
      "metadata": {
        "id": "kvQISnW4ST3y"
      },
      "source": [
        "### Booleans"
      ]
    },
    {
      "cell_type": "code",
      "source": [],
      "metadata": {
        "id": "eLjAckRjPYKr"
      },
      "execution_count": null,
      "outputs": []
    },
    {
      "cell_type": "code",
      "source": [],
      "metadata": {
        "id": "FjBKFEvqPcLe"
      },
      "execution_count": null,
      "outputs": []
    },
    {
      "cell_type": "markdown",
      "source": [
        "### การตรวจสอบประเภทข้อมูลใน Python"
      ],
      "metadata": {
        "id": "CO7cUdv3ruEJ"
      }
    },
    {
      "cell_type": "code",
      "source": [],
      "metadata": {
        "id": "_JF6MSSVrp_e"
      },
      "execution_count": null,
      "outputs": []
    },
    {
      "cell_type": "code",
      "source": [],
      "metadata": {
        "id": "uVdt6WiNr1pq"
      },
      "execution_count": null,
      "outputs": []
    },
    {
      "cell_type": "markdown",
      "metadata": {
        "id": "bLBpC8QcST3s"
      },
      "source": [
        "### การแสดงผล (print)"
      ]
    },
    {
      "cell_type": "code",
      "execution_count": null,
      "metadata": {
        "collapsed": true,
        "id": "aWpmGpodST3s"
      },
      "outputs": [],
      "source": []
    },
    {
      "cell_type": "code",
      "execution_count": null,
      "metadata": {
        "id": "BwOxGu8nST3t"
      },
      "outputs": [],
      "source": []
    },
    {
      "cell_type": "code",
      "execution_count": null,
      "metadata": {
        "id": "tOhUbv1QST3t"
      },
      "outputs": [],
      "source": []
    },
    {
      "cell_type": "code",
      "source": [],
      "metadata": {
        "id": "JDq_diD1d9r_"
      },
      "execution_count": null,
      "outputs": []
    },
    {
      "cell_type": "markdown",
      "source": [
        "##การใช้งาน string\n",
        "● การเชื่อมต่อ String (Concatenation)\n",
        "\n",
        "● String แบบหลายบรรทัด (Three Double Quotes)\n",
        "\n",
        "●  การเข้าถึงตัวอักษรใน String (Slice)\n",
        "\n",
        "● จัดรูปแบบ String (Format String)"
      ],
      "metadata": {
        "id": "e6mR0P8QR13v"
      }
    },
    {
      "cell_type": "markdown",
      "source": [
        "### *1.* การเชื่อมต่อ String (Concatenation)"
      ],
      "metadata": {
        "id": "hM4tvphUTKDd"
      }
    },
    {
      "cell_type": "code",
      "source": [],
      "metadata": {
        "id": "wOuV3dP6UTWE"
      },
      "execution_count": null,
      "outputs": []
    },
    {
      "cell_type": "code",
      "execution_count": null,
      "metadata": {
        "collapsed": true,
        "id": "KzuIFoTdST3t"
      },
      "outputs": [],
      "source": []
    },
    {
      "cell_type": "markdown",
      "source": [
        "### *2.* String แบบหลายบรรทัด (Three Double Quotes)"
      ],
      "metadata": {
        "id": "oMHbfy3uUDun"
      }
    },
    {
      "cell_type": "code",
      "source": [],
      "metadata": {
        "id": "vZSBdWevTJsr"
      },
      "execution_count": null,
      "outputs": []
    },
    {
      "cell_type": "code",
      "source": [],
      "metadata": {
        "id": "VGI1bs2YebiM"
      },
      "execution_count": null,
      "outputs": []
    },
    {
      "cell_type": "code",
      "source": [],
      "metadata": {
        "id": "Q7ntYbN3ewPy"
      },
      "execution_count": null,
      "outputs": []
    },
    {
      "cell_type": "code",
      "source": [],
      "metadata": {
        "id": "u0UWggSDe-bJ"
      },
      "execution_count": null,
      "outputs": []
    },
    {
      "cell_type": "code",
      "source": [],
      "metadata": {
        "id": "IgPwHEQAfMIS"
      },
      "execution_count": null,
      "outputs": []
    },
    {
      "cell_type": "markdown",
      "source": [
        "### *3.* การเข้าถึงตัวอักษรใน String (Slice)"
      ],
      "metadata": {
        "id": "GDwUfix2TwHi"
      }
    },
    {
      "cell_type": "code",
      "source": [],
      "metadata": {
        "id": "46DF9L86gmGe"
      },
      "execution_count": null,
      "outputs": []
    },
    {
      "cell_type": "code",
      "source": [],
      "metadata": {
        "id": "l74wLQgpgr1U"
      },
      "execution_count": null,
      "outputs": []
    },
    {
      "cell_type": "code",
      "source": [],
      "metadata": {
        "id": "QNn7CYGsT3eP"
      },
      "execution_count": null,
      "outputs": []
    },
    {
      "cell_type": "markdown",
      "source": [
        "### *4*. format string วิธีจัดรูปแบบข้อความ (String Formatting)\n",
        "1. F-Strings (ตั้งแต่ Python 3.6+)\n",
        "2. .format() ยืดหยุ่น (ใช้ได้ทั้งเลขลำดับและชื่อ)\n",
        "3. % operator (เก่า แต่ยังใช้ได้)\n",
        "\n"
      ],
      "metadata": {
        "id": "Dwvr9gOfK7Nk"
      }
    },
    {
      "cell_type": "code",
      "source": [
        "#F-Strings (ตั้งแต่ Python 3.6+)\n"
      ],
      "metadata": {
        "id": "wixspIP8K-8w"
      },
      "execution_count": null,
      "outputs": []
    },
    {
      "cell_type": "code",
      "source": [
        "latitude = 27.9881\n",
        "longitude = 86.9250"
      ],
      "metadata": {
        "id": "jmOBBfNpNK_q"
      },
      "execution_count": null,
      "outputs": []
    },
    {
      "cell_type": "code",
      "source": [
        "#.format() ยืดหยุ่น (ใช้ได้ทั้งเลขลำดับและชื่อ)\n"
      ],
      "metadata": {
        "id": "lrQW_aqALgpP"
      },
      "execution_count": null,
      "outputs": []
    },
    {
      "cell_type": "code",
      "source": [],
      "metadata": {
        "id": "cHsa8ZI3MxkQ"
      },
      "execution_count": null,
      "outputs": []
    },
    {
      "cell_type": "code",
      "source": [],
      "metadata": {
        "id": "vQ36h55YMpys"
      },
      "execution_count": null,
      "outputs": []
    },
    {
      "cell_type": "code",
      "source": [
        "#% operator (เก่า แต่ยังใช้ได้)\n"
      ],
      "metadata": {
        "id": "l8mfw5UPLnvl"
      },
      "execution_count": null,
      "outputs": []
    },
    {
      "cell_type": "code",
      "source": [],
      "metadata": {
        "id": "pI6Qk0kuOwwW"
      },
      "execution_count": null,
      "outputs": []
    },
    {
      "cell_type": "markdown",
      "source": [
        "## String Method\n",
        "string methods  คือฟังก์ชันที่ถูกสร้างขึ้นเพื่อใช้ในการจัดการและแปลงข้อมูลที่เป็นสตริง (string) เป็นพื้นฐานในการจัดการข้อมูลข้อความ เช่น ชื่อตําแหน่งทางภูมิศาสตร์ พิกัด และข้อมูลที่สกัดจากไฟล์ข้อความ จะช่วยให้สามารถจัดการและวิเคราะห์ข้อมูลทางภูมิศาสตร์ได้อย่างมีประสิทธิภาพ ซึ่งเป็นสิ่งจําเป็นสําหรับงานต่างๆ เช่น การทําความสะอาดข้อมูล การจัดรูปแบบ การแยกวิเคราะห์ และแม้แต่การเข้ารหัสทางภูมิศาสตร์ (geocoding)\n",
        "\n",
        "\n",
        "*   Lower(), upper(): แปลงสตริงเป็นตัวพิมพ์เล็กหรือตัวพิมพ์ใหญ่\n",
        "*   Strip(): ลบช่องว่างนําหน้าและท้าย\n",
        "*   Replace(): แทนที่สตริงย่อยด้วยสตริงย่อยอื่น\n",
        "*   Split(): แยกสตริงออกเป็นรายการสตริงย่อยตามตัวคั่น\n",
        "*   Join(): เขื่อมสตริงเป็นสตริงเดียวด้วยตัวคั่นที่ระบุ\n",
        "\n",
        "\n",
        "\n",
        "\n",
        "\n",
        "\n",
        "\n"
      ],
      "metadata": {
        "id": "GOXXiCeLuRzR"
      }
    },
    {
      "cell_type": "code",
      "source": [
        "text = \"  Geography is FUN!  \"\n"
      ],
      "metadata": {
        "id": "nfXDFuucWAOC"
      },
      "execution_count": null,
      "outputs": []
    },
    {
      "cell_type": "code",
      "source": [
        "text = \"Stations: Helsinki Kumpula, Helsinki Kaisaniemi, Helsinki Harmaja\"\n"
      ],
      "metadata": {
        "id": "7VY_pjzBXKyg"
      },
      "execution_count": null,
      "outputs": []
    },
    {
      "cell_type": "code",
      "source": [],
      "metadata": {
        "id": "bpyRHteMX3LO"
      },
      "execution_count": null,
      "outputs": []
    },
    {
      "cell_type": "markdown",
      "source": [
        "## Data structure"
      ],
      "metadata": {
        "id": "oq-Q_tB2m31F"
      }
    },
    {
      "cell_type": "code",
      "source": [],
      "metadata": {
        "id": "UONy4cWkOKRq"
      },
      "execution_count": null,
      "outputs": []
    },
    {
      "cell_type": "markdown",
      "metadata": {
        "id": "wfGOda21ST3z"
      },
      "source": [
        "### Tuples\n",
        "เป็นลําดับที่ไม่เปลี่ยนแปลง ซึ่งหมายความว่าเมื่อสร้างทูเปิลแล้ว องค์ประกอบของ\n",
        "จะไม่สามารถเปลี่ยนแปลงหรือแก้ไขได้ Tuples มีประโยชน์สําหรับการจัดเก็บชุดของข้อมูล อยู่ในเครื่องหมาย (  )"
      ]
    },
    {
      "cell_type": "code",
      "execution_count": null,
      "metadata": {
        "collapsed": true,
        "id": "YkzVPsKVST3z"
      },
      "outputs": [],
      "source": []
    },
    {
      "cell_type": "code",
      "execution_count": null,
      "metadata": {
        "id": "xSdpI1dfST3z"
      },
      "outputs": [],
      "source": []
    },
    {
      "cell_type": "code",
      "execution_count": null,
      "metadata": {
        "id": "wSrLbBfkST3z"
      },
      "outputs": [],
      "source": []
    },
    {
      "cell_type": "code",
      "source": [],
      "metadata": {
        "id": "V1ik3jG_Y2FN"
      },
      "execution_count": null,
      "outputs": []
    },
    {
      "cell_type": "code",
      "source": [],
      "metadata": {
        "id": "BfFBP0cJY6Nx"
      },
      "execution_count": null,
      "outputs": []
    },
    {
      "cell_type": "markdown",
      "metadata": {
        "id": "8AW8LjQUST3u"
      },
      "source": [
        "### Lists\n",
        "มีลําดับที่เปลี่ยนแปลงได้ ซึ่งหมายความว่าสามารถเปลี่ยน เพิ่ม หรือลบข้อมูลได้หลังจากสร้าง list แล้ว\n",
        "List มีความยืดหยุ่นมากและสามารถจัดเก็บข้อมูลได้หลายประเภท อยู่ในเครื่องหมาย [ ]  ทําให้มีประโยชน์สําหรับงานเชิงพื้นที่ต่างๆ"
      ]
    },
    {
      "cell_type": "code",
      "source": [],
      "metadata": {
        "id": "6uqbe3KLK5Yo"
      },
      "execution_count": null,
      "outputs": []
    },
    {
      "cell_type": "code",
      "execution_count": null,
      "metadata": {
        "id": "vP14TyhZST3v"
      },
      "outputs": [],
      "source": []
    },
    {
      "cell_type": "code",
      "execution_count": null,
      "metadata": {
        "id": "96g6j8ksST3v"
      },
      "outputs": [],
      "source": []
    },
    {
      "cell_type": "code",
      "execution_count": null,
      "metadata": {
        "collapsed": true,
        "id": "MVJJDrrOST3v"
      },
      "outputs": [],
      "source": []
    },
    {
      "cell_type": "code",
      "execution_count": null,
      "metadata": {
        "collapsed": true,
        "id": "NkIC7K4qST3w"
      },
      "outputs": [],
      "source": []
    },
    {
      "cell_type": "code",
      "execution_count": null,
      "metadata": {
        "id": "PWTVp-vlST3w"
      },
      "outputs": [],
      "source": []
    },
    {
      "cell_type": "code",
      "execution_count": null,
      "metadata": {
        "id": "VWdKMVI6ST3w"
      },
      "outputs": [],
      "source": []
    },
    {
      "cell_type": "code",
      "execution_count": null,
      "metadata": {
        "id": "SrF9CqzEST3w"
      },
      "outputs": [],
      "source": []
    },
    {
      "cell_type": "code",
      "execution_count": null,
      "metadata": {
        "collapsed": true,
        "id": "ZqGG8alvST3x"
      },
      "outputs": [],
      "source": []
    },
    {
      "cell_type": "code",
      "execution_count": null,
      "metadata": {
        "id": "2DnraaqPST3x"
      },
      "outputs": [],
      "source": []
    },
    {
      "cell_type": "code",
      "execution_count": null,
      "metadata": {
        "collapsed": true,
        "id": "PBJ9EbEJST3x"
      },
      "outputs": [],
      "source": []
    },
    {
      "cell_type": "code",
      "execution_count": null,
      "metadata": {
        "id": "X4EMxjZfST3x"
      },
      "outputs": [],
      "source": []
    },
    {
      "cell_type": "code",
      "execution_count": null,
      "metadata": {
        "id": "CFp-OoaQST3y"
      },
      "outputs": [],
      "source": []
    },
    {
      "cell_type": "code",
      "execution_count": null,
      "metadata": {
        "id": "77tMFtEZST3y"
      },
      "outputs": [],
      "source": []
    },
    {
      "cell_type": "code",
      "source": [],
      "metadata": {
        "id": "D1Wokm0hahR7"
      },
      "execution_count": null,
      "outputs": []
    },
    {
      "cell_type": "code",
      "source": [],
      "metadata": {
        "id": "WxXjiBKiam11"
      },
      "execution_count": null,
      "outputs": []
    },
    {
      "cell_type": "code",
      "source": [
        "station_names = [\n",
        "    \"Helsinki Harmaja\",\n",
        "    \"Helsinki Kaisaniemi\",\n",
        "    \"Helsinki Kaivopuisto\",\n",
        "    \"Helsinki Kumpula\",\n",
        "]\n"
      ],
      "metadata": {
        "id": "9TMb3O9BZrLy"
      },
      "execution_count": null,
      "outputs": []
    },
    {
      "cell_type": "code",
      "source": [],
      "metadata": {
        "id": "jZgzuRELZxIi"
      },
      "execution_count": null,
      "outputs": []
    },
    {
      "cell_type": "code",
      "source": [],
      "metadata": {
        "id": "ELw3vK42Z06E"
      },
      "execution_count": null,
      "outputs": []
    },
    {
      "cell_type": "code",
      "source": [],
      "metadata": {
        "id": "HM8WeeyGZ8rA"
      },
      "execution_count": null,
      "outputs": []
    },
    {
      "cell_type": "markdown",
      "metadata": {
        "id": "PtSerPemST3z"
      },
      "source": [
        "### Sets\n",
        "Set คือ ที่ไม่ซ้ํากันที่ไม่มีลําดับ มีประโยชน์เมื่อต้องการจัดเก็บชุดข้อมูล\n",
        "แต่ต้องการกําจัดข้อมูลที่ซ้ํากัน"
      ]
    },
    {
      "cell_type": "code",
      "execution_count": null,
      "metadata": {
        "id": "qWvSHRcjST3z"
      },
      "outputs": [],
      "source": []
    },
    {
      "cell_type": "code",
      "execution_count": null,
      "metadata": {
        "id": "10pS61FqST30"
      },
      "outputs": [],
      "source": []
    },
    {
      "cell_type": "code",
      "source": [],
      "metadata": {
        "id": "Bf_pdpp_atTe"
      },
      "execution_count": null,
      "outputs": []
    },
    {
      "cell_type": "code",
      "source": [],
      "metadata": {
        "id": "Qslo2sQja0ux"
      },
      "execution_count": null,
      "outputs": []
    },
    {
      "cell_type": "code",
      "source": [],
      "metadata": {
        "id": "FxFbT1zja9ao"
      },
      "execution_count": null,
      "outputs": []
    },
    {
      "cell_type": "markdown",
      "metadata": {
        "id": "4rDN_j3nST3y"
      },
      "source": [
        "### Dictionaries\n",
        "พจนานุกรมคือชุดของคู่คีย์-ค่า ซึ่งแต่ละคีย์จะไม่ซ้ํากัน พจนานุกรมมีประโยชน์อย่างยิ่งสําหรับ\n",
        "การจัดเก็บข้อมูลที่เชื่อมโยงกับตัวระบุเฉพาะ เช่น ข้อมูลแอตทริบิวต์สําหรับคุณสมบัติทางภูมิศาสตร์"
      ]
    },
    {
      "cell_type": "code",
      "execution_count": null,
      "metadata": {
        "collapsed": true,
        "id": "AsVKBfHAST3y"
      },
      "outputs": [],
      "source": []
    },
    {
      "cell_type": "code",
      "execution_count": null,
      "metadata": {
        "id": "XTN00nf1ST3y"
      },
      "outputs": [],
      "source": []
    },
    {
      "cell_type": "code",
      "execution_count": null,
      "metadata": {
        "id": "AFi2R9STST3y"
      },
      "outputs": [],
      "source": []
    },
    {
      "cell_type": "code",
      "execution_count": null,
      "metadata": {
        "id": "elK6F-fKST3z"
      },
      "outputs": [],
      "source": []
    },
    {
      "cell_type": "code",
      "execution_count": null,
      "metadata": {
        "id": "9bJ6gQr8ST3z"
      },
      "outputs": [],
      "source": []
    },
    {
      "cell_type": "code",
      "source": [],
      "metadata": {
        "id": "sY97GH8JbZ3N"
      },
      "execution_count": null,
      "outputs": []
    },
    {
      "cell_type": "markdown",
      "source": [
        "##แบบฝึกหัด"
      ],
      "metadata": {
        "id": "ALBKeTCMW25G"
      }
    },
    {
      "cell_type": "markdown",
      "source": [
        "1. เรามีตัวแปรชื่อ 'distance_km' = '4135' ซึ่งระบุระยะทางเส้นตรงระหว่างซานฟรานซิสโกและนิวยอร์กเป็นกิโลเมตร .ให้สร้างตัวแปรที่เรียกว่า 'distance_mi' และเก็บค่าระยะทางเป็นไมล์ (คําแนะนํา 1: 1 ไมล์ = 1.60934 กิโลเมตร)\n",
        "**เพิ่มโค้ดในเซลล์ด้านล่างและรันคำตอบควรเป็น 2569.37"
      ],
      "metadata": {
        "id": "JKH11g7aoBgm"
      }
    },
    {
      "cell_type": "markdown",
      "source": [
        "2. สร้างตัวแปร city = \"Bangkok\" และ country = \"Thailand\" แล้วเขียนโปรแกรมเชื่อมข้อความให้ออกมาเป็น: Bangkok is the capital of Thailand."
      ],
      "metadata": {
        "id": "S39-qcvTQ9DC"
      }
    },
    {
      "cell_type": "markdown",
      "source": [
        "3. ให้ word = \"Geography\"\n",
        "\t•\tแสดงเฉพาะ \"Geo\"\n",
        "\t•\tแสดงเฉพาะ \"graphy\"\n",
        "\t•\tแสดงเฉพาะ \"G\""
      ],
      "metadata": {
        "id": "-lWfaqKWcW-6"
      }
    },
    {
      "cell_type": "markdown",
      "source": [
        "4. กำหนดตัวแปล\n",
        "latitude = 27.9881\n",
        "longitude = 86.9250\n",
        "\n",
        "เขียนโปรแกรมให้แสดงผลลัพธ์ด้วย\n",
        "\n",
        "\n",
        "*   .format() → \"Coordinates: (27.9881, 86.9250)\"\n",
        "*   เขียนโปรแกรมให้แสดงผลลัพธ์ด้วย f-string\n",
        "*  เขียนโปรแกรมให้แสดงผลลัพธ์ด้วย % operator\n"
      ],
      "metadata": {
        "id": "LWWpI4OjeFgw"
      }
    },
    {
      "cell_type": "markdown",
      "source": [
        "5. ให้ text = \"   welcome to GIS programming class!   \"\n",
        "\n",
        "\t•\tใช้ .strip() เพื่อตัดช่องว่างหน้า-หลัง\n",
        "\n",
        "\t•\tใช้ .upper() แปลงข้อความเป็นตัวพิมพ์ใหญ่\n",
        "  \n",
        "\t•\tใช้ .replace(\"GIS\", \"Python\") เพื่อแทนคำว่า GIS เป็น Python"
      ],
      "metadata": {
        "id": "Oh4h03HLeIqO"
      }
    }
  ],
  "metadata": {
    "kernelspec": {
      "display_name": "Python 3",
      "language": "python",
      "name": "python3"
    },
    "language_info": {
      "codemirror_mode": {
        "name": "ipython",
        "version": 3
      },
      "file_extension": ".py",
      "mimetype": "text/x-python",
      "name": "python",
      "nbconvert_exporter": "python",
      "pygments_lexer": "ipython3",
      "version": "3.6.2"
    },
    "colab": {
      "provenance": [],
      "toc_visible": true,
      "include_colab_link": true
    }
  },
  "nbformat": 4,
  "nbformat_minor": 0
}